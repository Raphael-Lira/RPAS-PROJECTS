{
 "cells": [
  {
   "cell_type": "code",
   "execution_count": 3,
   "id": "c1fd3308",
   "metadata": {},
   "outputs": [
    {
     "data": {
      "text/html": [
       "<div>\n",
       "<style scoped>\n",
       "    .dataframe tbody tr th:only-of-type {\n",
       "        vertical-align: middle;\n",
       "    }\n",
       "\n",
       "    .dataframe tbody tr th {\n",
       "        vertical-align: top;\n",
       "    }\n",
       "\n",
       "    .dataframe thead th {\n",
       "        text-align: right;\n",
       "    }\n",
       "</style>\n",
       "<table border=\"1\" class=\"dataframe\">\n",
       "  <thead>\n",
       "    <tr style=\"text-align: right;\">\n",
       "      <th></th>\n",
       "      <th>Nome</th>\n",
       "      <th>Termos banidos</th>\n",
       "      <th>Preço mínimo</th>\n",
       "      <th>Preço máximo</th>\n",
       "    </tr>\n",
       "  </thead>\n",
       "  <tbody>\n",
       "    <tr>\n",
       "      <th>0</th>\n",
       "      <td>iphone 12 64gb</td>\n",
       "      <td>mini watch</td>\n",
       "      <td>3000</td>\n",
       "      <td>3500</td>\n",
       "    </tr>\n",
       "    <tr>\n",
       "      <th>1</th>\n",
       "      <td>rtx 3060</td>\n",
       "      <td>zota galax</td>\n",
       "      <td>4000</td>\n",
       "      <td>4500</td>\n",
       "    </tr>\n",
       "  </tbody>\n",
       "</table>\n",
       "</div>"
      ],
      "text/plain": [
       "             Nome Termos banidos  Preço mínimo  Preço máximo\n",
       "0  iphone 12 64gb     mini watch          3000          3500\n",
       "1        rtx 3060     zota galax          4000          4500"
      ]
     },
     "metadata": {},
     "output_type": "display_data"
    }
   ],
   "source": [
    "import pandas as pd\n",
    "\n",
    "df_busca = pd.read_excel('buscas.xlsx')\n",
    "display(df_busca)"
   ]
  },
  {
   "cell_type": "code",
   "execution_count": 42,
   "id": "cf9a6121",
   "metadata": {},
   "outputs": [
    {
     "name": "stdout",
     "output_type": "stream",
     "text": [
      "{'Nome Produto': 'Gigabyte GV-N3060GAMING OC-12GD Nvidia Geforce RTX 3060 12 GB GDDR6', 'Preco': 'R$ 2.249,00', 'Link': 'https://www.google.com.br/url?url=https://www.terabyteshop.com.br/produto/19167/placa-de-video-colorful-geforce-rtx-3060-nb-duo-12gb-l-v-gddr6x-256bit-lhr212327118801%3Fsrsltid%3DASuE1wTply_H-8e8D9V9FZecz7GYNvwhLKoYAb48MRKA02yA2aOGSt1LBUc&rct=j&q=&esrc=s&sa=U&ved=0ahUKEwiEp4ec7_r_AhU6qZUCHe-LDooQguUECLkN&usg=AOvVaw2lrCGdc7o6MifAzrU-ljD-'}\n"
     ]
    }
   ],
   "source": [
    "from selenium import webdriver\n",
    "from selenium.webdriver.common.keys import Keys\n",
    "from selenium.webdriver.common.by import By\n",
    "import time\n",
    "# Inicializar o driver do Chrome (o caminho do driver está configurado nas variáveis de ambiente)\n",
    "dict_produtos = {}\n",
    "lista_produtos = []\n",
    "driver = webdriver.Chrome()\n",
    "# Abrir uma página da web\n",
    "for produto in df_busca['Nome']:\n",
    "    driver.get('https://www.google.com.br/?hl=pt-BR')\n",
    "    time.sleep(1) # pesquisa\n",
    "    driver.find_element(By.XPATH, '//*[@id=\"APjFqb\"]').send_keys(produto, Keys.ENTER)\n",
    "    time.sleep(1) # clicar na aba shopping\n",
    "    driver.find_element(By.XPATH, '//*[@id=\"cnt\"]/div[5]/div/div/div[1]/div[1]/div/a[1]').click()\n",
    "    time.sleep(1) # pegar todos os valores e nomes \n",
    "    card_principal = driver.find_elements('class name', 'i0X6df')\n",
    "    for elemento in card_principal:\n",
    "        preco = elemento.find_element('class name', 'a8Pemb').text\n",
    "        nome = elemento.find_element('class name', 'tAxDx').text\n",
    "        elemento_referencia = driver.find_element('class name', 'KoNVE')\n",
    "        elemento_pai = elemento_referencia.find_element('xpath', '..')\n",
    "        link = elemento_pai.get_attribute('href')\n",
    "        lista_produtos.append([nome, preco, link])\n",
    "    #elementos = driver.find_elements('class name', 'a8Pemb')\n",
    "    #precos_iphone = [texto.text for texto in elementos]\n",
    "    #elementos_nome = driver.find_elements('class name', 'tAxDx')\n",
    "    #nome = [texto_nome.text for texto_nome in elementos_nome]\n",
    "    time.sleep(5)\n",
    "for item in lista_produtos:\n",
    "    dict_produtos['Nome Produto'] = item[0]\n",
    "    dict_produtos['Preco'] = item[1]\n",
    "    dict_produtos['Link'] = item[2]\n",
    "print(dict_produtos)\n",
    "#df_final = pd.DataFrame.from_dict(dict_produtos, orient='index')\n",
    "#display(df_final)"
   ]
  },
  {
   "cell_type": "code",
   "execution_count": null,
   "id": "ea7c8de6",
   "metadata": {},
   "outputs": [],
   "source": []
  },
  {
   "cell_type": "code",
   "execution_count": null,
   "id": "6e60e72d",
   "metadata": {},
   "outputs": [],
   "source": []
  }
 ],
 "metadata": {
  "kernelspec": {
   "display_name": "Python 3 (ipykernel)",
   "language": "python",
   "name": "python3"
  },
  "language_info": {
   "codemirror_mode": {
    "name": "ipython",
    "version": 3
   },
   "file_extension": ".py",
   "mimetype": "text/x-python",
   "name": "python",
   "nbconvert_exporter": "python",
   "pygments_lexer": "ipython3",
   "version": "3.9.13"
  }
 },
 "nbformat": 4,
 "nbformat_minor": 5
}
